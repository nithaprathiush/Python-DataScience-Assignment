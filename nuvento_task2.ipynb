{
 "cells": [
  {
   "cell_type": "code",
   "execution_count": 1,
   "metadata": {},
   "outputs": [],
   "source": [
    "import pandas as pd\n",
    "import numpy as np"
   ]
  },
  {
   "cell_type": "code",
   "execution_count": 15,
   "metadata": {},
   "outputs": [],
   "source": [
    "import mysql.connector\n",
    "db_con = mysql.connector.connect(host='localhost',user='root',password='Password@123')\n",
    "cursor=db_con.cursor()"
   ]
  },
  {
   "cell_type": "code",
   "execution_count": 3,
   "metadata": {},
   "outputs": [
    {
     "data": {
      "text/html": [
       "<div>\n",
       "<style scoped>\n",
       "    .dataframe tbody tr th:only-of-type {\n",
       "        vertical-align: middle;\n",
       "    }\n",
       "\n",
       "    .dataframe tbody tr th {\n",
       "        vertical-align: top;\n",
       "    }\n",
       "\n",
       "    .dataframe thead th {\n",
       "        text-align: right;\n",
       "    }\n",
       "</style>\n",
       "<table border=\"1\" class=\"dataframe\">\n",
       "  <thead>\n",
       "    <tr style=\"text-align: right;\">\n",
       "      <th></th>\n",
       "      <th>SourceTableName</th>\n",
       "      <th>SourceColumnName</th>\n",
       "      <th>TargetTableName</th>\n",
       "      <th>TargetColumnName</th>\n",
       "    </tr>\n",
       "  </thead>\n",
       "  <tbody>\n",
       "    <tr>\n",
       "      <th>0</th>\n",
       "      <td>PSRW_HealthOfficeVisits</td>\n",
       "      <td>Actions</td>\n",
       "      <td>OfficeVisit</td>\n",
       "      <td>Actions_Health_Visit</td>\n",
       "    </tr>\n",
       "    <tr>\n",
       "      <th>1</th>\n",
       "      <td>PSRW_HealthOfficeVisits</td>\n",
       "      <td>Assessment</td>\n",
       "      <td>OfficeVisit</td>\n",
       "      <td>Assessment_Comments</td>\n",
       "    </tr>\n",
       "    <tr>\n",
       "      <th>2</th>\n",
       "      <td>PSRW_HealthOfficeVisits</td>\n",
       "      <td>ID</td>\n",
       "      <td>OfficeVisit</td>\n",
       "      <td>Health_Visit_ID</td>\n",
       "    </tr>\n",
       "    <tr>\n",
       "      <th>3</th>\n",
       "      <td>PSRW_HealthOfficeVisits</td>\n",
       "      <td>Outcome</td>\n",
       "      <td>OfficeVisit</td>\n",
       "      <td>Screening_Outcome</td>\n",
       "    </tr>\n",
       "    <tr>\n",
       "      <th>4</th>\n",
       "      <td>PSRW_HealthOfficeVisits</td>\n",
       "      <td>Outcome_ID</td>\n",
       "      <td>OfficeVisit</td>\n",
       "      <td>NaN</td>\n",
       "    </tr>\n",
       "    <tr>\n",
       "      <th>...</th>\n",
       "      <td>...</td>\n",
       "      <td>...</td>\n",
       "      <td>...</td>\n",
       "      <td>...</td>\n",
       "    </tr>\n",
       "    <tr>\n",
       "      <th>333</th>\n",
       "      <td>PSRW_SchoolEnrollment</td>\n",
       "      <td>SourceID</td>\n",
       "      <td>StudentDetails</td>\n",
       "      <td>NaN</td>\n",
       "    </tr>\n",
       "    <tr>\n",
       "      <th>334</th>\n",
       "      <td>PSRW_SchoolEnrollment</td>\n",
       "      <td>SourceTable</td>\n",
       "      <td>STUDENUdostring</td>\n",
       "      <td>NaN</td>\n",
       "    </tr>\n",
       "    <tr>\n",
       "      <th>335</th>\n",
       "      <td>PSRW_SchoolEnrollment</td>\n",
       "      <td>StudentID</td>\n",
       "      <td>StudentProfile</td>\n",
       "      <td>StudentID</td>\n",
       "    </tr>\n",
       "    <tr>\n",
       "      <th>336</th>\n",
       "      <td>PSRW_SchoolEnrollment</td>\n",
       "      <td>TermID</td>\n",
       "      <td>TermsDetabli</td>\n",
       "      <td>NaN</td>\n",
       "    </tr>\n",
       "    <tr>\n",
       "      <th>337</th>\n",
       "      <td>PSRW_SchoolEnrollment</td>\n",
       "      <td>YearID</td>\n",
       "      <td>TermsDetabli</td>\n",
       "      <td>NaN</td>\n",
       "    </tr>\n",
       "  </tbody>\n",
       "</table>\n",
       "<p>338 rows × 4 columns</p>\n",
       "</div>"
      ],
      "text/plain": [
       "             SourceTableName SourceColumnName  TargetTableName  \\\n",
       "0    PSRW_HealthOfficeVisits          Actions      OfficeVisit   \n",
       "1    PSRW_HealthOfficeVisits       Assessment      OfficeVisit   \n",
       "2    PSRW_HealthOfficeVisits               ID      OfficeVisit   \n",
       "3    PSRW_HealthOfficeVisits          Outcome      OfficeVisit   \n",
       "4    PSRW_HealthOfficeVisits       Outcome_ID      OfficeVisit   \n",
       "..                       ...              ...              ...   \n",
       "333    PSRW_SchoolEnrollment         SourceID   StudentDetails   \n",
       "334    PSRW_SchoolEnrollment      SourceTable  STUDENUdostring   \n",
       "335    PSRW_SchoolEnrollment        StudentID   StudentProfile   \n",
       "336    PSRW_SchoolEnrollment           TermID     TermsDetabli   \n",
       "337    PSRW_SchoolEnrollment           YearID     TermsDetabli   \n",
       "\n",
       "         TargetColumnName  \n",
       "0    Actions_Health_Visit  \n",
       "1     Assessment_Comments  \n",
       "2         Health_Visit_ID  \n",
       "3       Screening_Outcome  \n",
       "4                     NaN  \n",
       "..                    ...  \n",
       "333                   NaN  \n",
       "334                   NaN  \n",
       "335             StudentID  \n",
       "336                   NaN  \n",
       "337                   NaN  \n",
       "\n",
       "[338 rows x 4 columns]"
      ]
     },
     "execution_count": 3,
     "metadata": {},
     "output_type": "execute_result"
    }
   ],
   "source": [
    "data = pd.read_csv(\"/home/user/NUVENTO/file1.csv\")\n",
    "data"
   ]
  },
  {
   "cell_type": "markdown",
   "metadata": {},
   "source": [
    "### dataframe df1,df2 is created with respective columns"
   ]
  },
  {
   "cell_type": "code",
   "execution_count": 62,
   "metadata": {},
   "outputs": [],
   "source": [
    "df1=data.drop(['TargetTableName','TargetColumnName'],axis=1)\n",
    "df2=data.drop(['SourceTableName','SourceColumnName'],axis=1)"
   ]
  },
  {
   "cell_type": "code",
   "execution_count": 5,
   "metadata": {},
   "outputs": [
    {
     "data": {
      "text/html": [
       "<div>\n",
       "<style scoped>\n",
       "    .dataframe tbody tr th:only-of-type {\n",
       "        vertical-align: middle;\n",
       "    }\n",
       "\n",
       "    .dataframe tbody tr th {\n",
       "        vertical-align: top;\n",
       "    }\n",
       "\n",
       "    .dataframe thead th {\n",
       "        text-align: right;\n",
       "    }\n",
       "</style>\n",
       "<table border=\"1\" class=\"dataframe\">\n",
       "  <thead>\n",
       "    <tr style=\"text-align: right;\">\n",
       "      <th></th>\n",
       "      <th>SourceTableName</th>\n",
       "      <th>SourceColumnName</th>\n",
       "    </tr>\n",
       "  </thead>\n",
       "  <tbody>\n",
       "    <tr>\n",
       "      <th>0</th>\n",
       "      <td>PSRW_HealthOfficeVisits</td>\n",
       "      <td>Actions</td>\n",
       "    </tr>\n",
       "    <tr>\n",
       "      <th>1</th>\n",
       "      <td>PSRW_HealthOfficeVisits</td>\n",
       "      <td>Assessment</td>\n",
       "    </tr>\n",
       "    <tr>\n",
       "      <th>2</th>\n",
       "      <td>PSRW_HealthOfficeVisits</td>\n",
       "      <td>ID</td>\n",
       "    </tr>\n",
       "    <tr>\n",
       "      <th>3</th>\n",
       "      <td>PSRW_HealthOfficeVisits</td>\n",
       "      <td>Outcome</td>\n",
       "    </tr>\n",
       "    <tr>\n",
       "      <th>4</th>\n",
       "      <td>PSRW_HealthOfficeVisits</td>\n",
       "      <td>Outcome_ID</td>\n",
       "    </tr>\n",
       "  </tbody>\n",
       "</table>\n",
       "</div>"
      ],
      "text/plain": [
       "           SourceTableName SourceColumnName\n",
       "0  PSRW_HealthOfficeVisits          Actions\n",
       "1  PSRW_HealthOfficeVisits       Assessment\n",
       "2  PSRW_HealthOfficeVisits               ID\n",
       "3  PSRW_HealthOfficeVisits          Outcome\n",
       "4  PSRW_HealthOfficeVisits       Outcome_ID"
      ]
     },
     "execution_count": 5,
     "metadata": {},
     "output_type": "execute_result"
    }
   ],
   "source": [
    "df1.head()"
   ]
  },
  {
   "cell_type": "markdown",
   "metadata": {},
   "source": [
    "### preparing the list of tables to be created in Database 2"
   ]
  },
  {
   "cell_type": "code",
   "execution_count": 6,
   "metadata": {},
   "outputs": [
    {
     "name": "stdout",
     "output_type": "stream",
     "text": [
      "['PSRW_HealthOfficeVisits', 'PS_Enrollment_Al', 'PSRW_HealthGradeLevel', 'PSRW_HealthImmunization', 'PSRW_HealthImmunizationDoses', 'PSRW_HealthMedical', 'PSRW_HealthScreeningTypes', 'PSRW_HealthScreeningWaiver', 'PSRW_HealthStudHearing', 'PSRW_HealthStudOral', 'PSRW_HealthStudScoliosis', 'PSRW_HealthStudTuberculosis', 'PSRW_HealthStudVision', 'PSRW_HealthVitalSigns', 'VWStudentCoreFieldsUC', 'DistrictSchoolView', 'PSSIS_Student_Demographics', 'PSSIS_Student_Enrollments', 'PSRW_SchoolEnrollment']\n"
     ]
    }
   ],
   "source": [
    "lst=df1.SourceTableName.unique().tolist()\n",
    "print(lst)"
   ]
  },
  {
   "cell_type": "markdown",
   "metadata": {},
   "source": [
    "### Creating tables in the Database 1"
   ]
  },
  {
   "cell_type": "code",
   "execution_count": 40,
   "metadata": {},
   "outputs": [
    {
     "name": "stdout",
     "output_type": "stream",
     "text": [
      "CREATE TABLE PSRW_HealthOfficeVisits ( Actions varchar(40) , Assessment varchar(40) , ID varchar(40) , Outcome varchar(40) , Outcome_ID varchar(40) , ParentGuardian_Contact_Ind varchar(40) , Provider_Name varchar(40) , Provider_Type varchar(40) , StudentID varchar(40) , Time_In varchar(40) , Time_Out varchar(40) , Visit_Date varchar(40) , Visit_Reason varchar(40) , Visit_Type varchar(40) , Visit_Type_ID varchar(40) );\n",
      "CREATE TABLE PS_Enrollment_Al ( ATT_CalcCntPresentAbsent varchar(40) , ATT_IntervalDuration varchar(40) , EntryDate varchar(40) , EntryCode varchar(40) , ExitDate varchar(40) , ExitCode varchar(40) , Dflt_Att_Mode_Code varchar(40) , Dflt_Conversion_Mode_Code varchar(40) , FTEID varchar(40) , Grade_Level varchar(40) , MembershipShare varchar(40) , ProgramID varchar(40) , SchoolID varchar(40) , StudentID varchar(40) , Track varchar(40) , YearID varchar(40) );\n",
      "CREATE TABLE PSRW_HealthGradeLevel ( Certification_Comment varchar(40) , Certification_Date varchar(40) , Certification_Description varchar(40) , Certification_First_Name varchar(40) , Certification_Grade_Level varchar(40) , Certification_Last_Name varchar(40) , Certification_Middle_Name varchar(40) , Certification_Status varchar(40) , ID varchar(40) , StudentID varchar(40) );\n",
      "CREATE TABLE PSRW_HealthImmunization ( Administered_Dose_Count varchar(40) , Compliance_Status varchar(40) , Exemption_Code varchar(40) , Exemption_Reason varchar(40) , Exemption_State_Code varchar(40) , Exemption_State_Reason varchar(40) , Exemption_Status varchar(40) , ID varchar(40) , Immunization_Comment varchar(40) , Student_ID varchar(40) , Vaccine_Code varchar(40) , Vaccine_Compliance_Mode varchar(40) , Vaccine_Description varchar(40) , Vaccine_Dose_Count varchar(40) , Vaccine_ID varchar(40) , Vaccine_MandatoryOptional varchar(40) , Vaccine_Name varchar(40) , Vaccine_Sort_Order varchar(40) , Vaccine_State_Code varchar(40) , Vaccine_State_Name varchar(40) );\n",
      "CREATE TABLE PSRW_HealthImmunizationDoses ( Certificate_Type_Code varchar(40) , Certificate_Type_Name varchar(40) , Certificate_Type_State_Code varchar(40) , Certificate_Type_State_Name varchar(40) , Compliancy_Statement varchar(40) , Compliancy_Status varchar(40) , Dose_Date_Administered varchar(40) , Dose_Date_Recorded varchar(40) , Dose_Number varchar(40) , Is_Default_Certificate_Type varchar(40) , ID varchar(40) , Imm_Source_ID varchar(40) , StudentID varchar(40) , Student_Imm_Record_ID varchar(40) , Vaccine_ID varchar(40) , Vaccine_Name varchar(40) , Vaccine_Sort_Order varchar(40) , Vaccine_Dose_Count varchar(40) );\n",
      "CREATE TABLE PSRW_HealthMedical ( Active_Med_Alert_Indicator varchar(40) , Custom varchar(40) , ID varchar(40) , Immunization_Status varchar(40) , Medical_Alert_Exp_Date varchar(40) , Medical_Alert_Text varchar(40) , StudentID varchar(40) );\n",
      "CREATE TABLE PSRW_HealthScreeningTypes ( ScreeningTypeID varchar(40) , ScreeningTypeName varchar(40) );\n",
      "CREATE TABLE PSRW_HealthScreeningWaiver ( ID varchar(40) , StudentID varchar(40) , Waiver_Date varchar(40) , Grade_Level varchar(40) , Waiver_Reason varchar(40) , Comments varchar(40) );\n",
      "CREATE TABLE PSRW_HealthStudHearing ( Comment varchar(40) , Grade_Level varchar(40) , Hearing_Aid varchar(40) , ID varchar(40) , Impaired_Test_Indicator varchar(40) , Late_Test_Indicator varchar(40) , Left_Ear_Result varchar(40) , Outcome varchar(40) , Provider_Name varchar(40) , Provider_Type varchar(40) , Referral_Date varchar(40) , Right_Ear_Result varchar(40) , Screening_Date varchar(40) , ScreeningTypeID varchar(40) , StudentID varchar(40) , Test_Type varchar(40) );\n",
      "CREATE TABLE PSRW_HealthStudOral ( Comment varchar(40) , Grade_Level varchar(40) , HistoryOfCaries varchar(40) , ID varchar(40) , Malocclusion varchar(40) , Outcome varchar(40) , Provider_Name varchar(40) , Provider_Type varchar(40) , Screening_Date varchar(40) , ScreeningTypeID varchar(40) , Sealants varchar(40) , StudentID varchar(40) , TreatmentUrgency varchar(40) , UntreatedCaries varchar(40) );\n",
      "CREATE TABLE PSRW_HealthStudScoliosis ( Comment varchar(40) , Grade_Level varchar(40) , ID varchar(40) , Outcome varchar(40) , Provider_Name varchar(40) , Provider_Type varchar(40) , Screening_Date varchar(40) , ScreeningTypeID varchar(40) , StudentID varchar(40) , Xray_Film_Date varchar(40) , Xray_Film_Impression varchar(40) );\n",
      "CREATE TABLE PSRW_HealthStudTuberculosis ( Comment varchar(40) , Grade_Level varchar(40) , ID varchar(40) , Induration_Size varchar(40) , Outcome varchar(40) , Provider_Name varchar(40) , Provider_Type varchar(40) , Screening_Date varchar(40) , ScreeningTypeID varchar(40) , Skin_Test_Given_Date varchar(40) , Skin_Test_Read_Date varchar(40) , Skin_Test_Result varchar(40) , Skin_Test_Type varchar(40) , StudentID varchar(40) , Xray_Film_Date varchar(40) , Xray_Film_Impression varchar(40) );\n",
      "CREATE TABLE PSRW_HealthStudVision ( Color_Blind_Test_Result varchar(40) , Comment varchar(40) , Grade_Level varchar(40) , ID varchar(40) , Late_Test_Indicator varchar(40) , Left_Eye_Result varchar(40) , Outcome varchar(40) , Provider_Name varchar(40) , Provider_Type varchar(40) , Referral_Date varchar(40) , Right_Eye_Result varchar(40) , Screening_Date varchar(40) , ScreeningTypeID varchar(40) , StudentID varchar(40) , Vision_Aid varchar(40) );\n",
      "CREATE TABLE PSRW_HealthVitalSigns ( BMI varchar(40) , Comment varchar(40) , Diastolic varchar(40) , Grade_Level varchar(40) , Heart_Rate varchar(40) , Height varchar(40) , Height_Percentile varchar(40) , ID varchar(40) , Outcome varchar(40) , Provider_Name varchar(40) , Provider_Type varchar(40) , Screening_Date varchar(40) , ScreeningTypeID varchar(40) , StudentID varchar(40) , Systolic varchar(40) , Temperature varchar(40) , Weight varchar(40) , Weight_Percentile varchar(40) , Weight_Status varchar(40) );\n",
      "CREATE TABLE VWStudentCoreFieldsUC ( Emerg_1_PType varchar(40) , Emerg_1_Rel varchar(40) , Emerg_2_PType varchar(40) , Emerg_2_Rel varchar(40) , Emerg_3_Phone varchar(40) , Emerg_3_PType varchar(40) , Emerg_3_Rel varchar(40) , Emerg_Contact_3 varchar(40) , Father_Employer varchar(40) , Father_Home_Phone varchar(40) , FatherDayPhone varchar(40) , Guardian_FN varchar(40) , Guardian_LN varchar(40) , Guardian_MN varchar(40) , GuardianDayPhone varchar(40) , ID varchar(40) , Mother_Employer varchar(40) , Mother_Home_Phone varchar(40) , MotherDayPhone varchar(40) , StudentsDCID varchar(40) );\n",
      "CREATE TABLE DistrictSchoolView ( Abbreviation varchar(40) , ActiveCrsList varchar(40) , Address varchar(40) , Alternate_School_Number varchar(40) , AsstPrincipal varchar(40) , AsstPrincipalEmail varchar(40) , AsstPrincipalPhone varchar(40) , BulletinEmail varchar(40) , CountyNbr varchar(40) , Custom varchar(40) , DCID varchar(40) , DfltNextSchool varchar(40) , DistrictNumber varchar(40) , Fee_Exemption_Status varchar(40) , High_Grade varchar(40) , Hist_High_Grade varchar(40) , Hist_Low_Grade varchar(40) , ID varchar(40) , IsSummerSchool varchar(40) , Low_Grade varchar(40) , Name varchar(40) , PortalID varchar(40) , Principal varchar(40) , PrincipalEmail varchar(40) , PrincipalPhone varchar(40) , PSComm_Path varchar(40) , ScheduleWhichSchool varchar(40) , SchoolAddress varchar(40) , SchoolCategoryCodesetID varchar(40) , SchoolCity varchar(40) , SchoolCountry varchar(40) , SchoolFax varchar(40) , SchoolGroup varchar(40) , SchoolInfo_GUID varchar(40) , SchoolPhone varchar(40) , SchoolState varchar(40) , SchoolZip varchar(40) , School_Number varchar(40) , SIF_StatePrID varchar(40) , SortOrder varchar(40) , State_ExcludeFromReporting varchar(40) , SysEmailFrom varchar(40) , TchrLogEntrTo varchar(40) , View_In_Portal varchar(40) );\n",
      "CREATE TABLE PSSIS_Student_Demographics ( Name varchar(40) , Student_Number varchar(40) , Current_Grade_Level varchar(40) , Current_School_Abbreviation varchar(40) , Gender varchar(40) , Ethnicity_Name varchar(40) , Ethnicity_Code varchar(40) , Special_Ed_Student varchar(40) , Current_Enroll_Status varchar(40) , Number_years_In_District varchar(40) , Middle_Name varchar(40) , Last_Name varchar(40) , First_Name varchar(40) , Date_Of_Birth varchar(40) , ClassOf varchar(40) , DistrictEntryDate varchar(40) , DistrictEntryGradeLevel varchar(40) , DistrictofResidence varchar(40) , Exclude_From_Rank varchar(40) , Family_Ident varchar(40) , Fee_Exemption_Status varchar(40) , Graduation_Req_Set varchar(40) , Home_Phone varchar(40) , Locker_Combination varchar(40) , Locker_Number varchar(40) , PhotoFlag varchar(40) , SSN varchar(40) , Exclude_From_Reporting varchar(40) , State_Enrolled varchar(40) , State_Student_Number varchar(40) , Allow_Web_Access varchar(40) , Web_ID varchar(40) , Web_Password varchar(40) , MembershipShare varchar(40) );\n"
     ]
    },
    {
     "name": "stdout",
     "output_type": "stream",
     "text": [
      "CREATE TABLE PSSIS_Student_Enrollments ( Name varchar(40) , Student_Number varchar(40) , Current_School_Abbreviation varchar(40) , Grade varchar(40) , Current_Enroll_Status varchar(40) , EnrollmentCode varchar(40) , EnrollmentType varchar(40) , Full_Time_Equivalency varchar(40) , Enrollment_Transfer_Date_Pend varchar(40) , Enrollment_Transfer_Info varchar(40) , Entry_Code varchar(40) , Entry_Reason varchar(40) , Entry_Date varchar(40) , Exit_Code varchar(40) , Exit_Reason varchar(40) , Exit_Comment varchar(40) , Exit_Date varchar(40) , Graduated_Rank varchar(40) , Graduated_SchoolName varchar(40) , Log_Notes varchar(40) , Transfer_Comments varchar(40) , Withdrawal_Reason varchar(40) , Lunch_Portion_to_Pay varchar(40) , MembershipShare varchar(40) , TuitionPayer varchar(40) , Track varchar(40) );\n",
      "CREATE TABLE PSRW_SchoolEnrollment ( AsstPrincipal varchar(40) , AsstPrincipalEmail varchar(40) , AsstPrincipalPhone varchar(40) , CountyName varchar(40) , EntryCode varchar(40) , EntryDate varchar(40) , ExitCode varchar(40) , ExitDate varchar(40) , Grade_Level varchar(40) , ID varchar(40) , Principal varchar(40) , PrincipalEmail varchar(40) , PrincipalPhone varchar(40) , SchoolAddress varchar(40) , SchoolCity varchar(40) , SchoolCountry varchar(40) , SchoolFax varchar(40) , SchoolID varchar(40) , SchoolName varchar(40) , SchoolPhone varchar(40) , SchoolState varchar(40) , SchoolYear varchar(40) , SchoolZip varchar(40) , SourceDCID varchar(40) , SourceID varchar(40) , SourceTable varchar(40) , StudentID varchar(40) , TermID varchar(40) , YearID varchar(40) );\n"
     ]
    }
   ],
   "source": [
    "for tblName in lst:  \n",
    "    rslt_df = df1[df1[\"SourceTableName\"] == tblName] \n",
    "    lt_col=rslt_df[\"SourceColumnName\"].tolist()\n",
    "    #print(lt_col)\n",
    "    SqlQrt=\"CREATE TABLE \" +  tblName + \" (\"\n",
    "    colQuery=\"\"\n",
    "    Col_count=0\n",
    "    for colName in lt_col:\n",
    "        Col_count=Col_count+1\n",
    "        colQuery=colName + \" varchar(40) \"\n",
    "        if(len(lt_col)!=Col_count):\n",
    "            colQuery=colQuery+\",\" \n",
    "        SqlQrt=SqlQrt+\" \"+ colQuery \n",
    "    SqlQrt=SqlQrt + \");\"\n",
    "    cursor.execute(\"use Database1\")\n",
    "    cursor.execute(SqlQrt)\n",
    "\n",
    "    print(SqlQrt)"
   ]
  },
  {
   "cell_type": "code",
   "execution_count": 63,
   "metadata": {},
   "outputs": [
    {
     "data": {
      "text/html": [
       "<div>\n",
       "<style scoped>\n",
       "    .dataframe tbody tr th:only-of-type {\n",
       "        vertical-align: middle;\n",
       "    }\n",
       "\n",
       "    .dataframe tbody tr th {\n",
       "        vertical-align: top;\n",
       "    }\n",
       "\n",
       "    .dataframe thead th {\n",
       "        text-align: right;\n",
       "    }\n",
       "</style>\n",
       "<table border=\"1\" class=\"dataframe\">\n",
       "  <thead>\n",
       "    <tr style=\"text-align: right;\">\n",
       "      <th></th>\n",
       "      <th>TargetTableName</th>\n",
       "      <th>TargetColumnName</th>\n",
       "    </tr>\n",
       "  </thead>\n",
       "  <tbody>\n",
       "    <tr>\n",
       "      <th>0</th>\n",
       "      <td>OfficeVisit</td>\n",
       "      <td>Actions_Health_Visit</td>\n",
       "    </tr>\n",
       "    <tr>\n",
       "      <th>1</th>\n",
       "      <td>OfficeVisit</td>\n",
       "      <td>Assessment_Comments</td>\n",
       "    </tr>\n",
       "    <tr>\n",
       "      <th>2</th>\n",
       "      <td>OfficeVisit</td>\n",
       "      <td>Health_Visit_ID</td>\n",
       "    </tr>\n",
       "    <tr>\n",
       "      <th>3</th>\n",
       "      <td>OfficeVisit</td>\n",
       "      <td>Screening_Outcome</td>\n",
       "    </tr>\n",
       "    <tr>\n",
       "      <th>4</th>\n",
       "      <td>OfficeVisit</td>\n",
       "      <td>NaN</td>\n",
       "    </tr>\n",
       "  </tbody>\n",
       "</table>\n",
       "</div>"
      ],
      "text/plain": [
       "  TargetTableName      TargetColumnName\n",
       "0     OfficeVisit  Actions_Health_Visit\n",
       "1     OfficeVisit   Assessment_Comments\n",
       "2     OfficeVisit       Health_Visit_ID\n",
       "3     OfficeVisit     Screening_Outcome\n",
       "4     OfficeVisit                   NaN"
      ]
     },
     "execution_count": 63,
     "metadata": {},
     "output_type": "execute_result"
    }
   ],
   "source": [
    "df2.head()"
   ]
  },
  {
   "cell_type": "markdown",
   "metadata": {},
   "source": [
    "### Data Cleaning , preparing the list of tables to be created in Database 2"
   ]
  },
  {
   "cell_type": "code",
   "execution_count": 77,
   "metadata": {},
   "outputs": [
    {
     "name": "stdout",
     "output_type": "stream",
     "text": [
      "['OfficeVisit', 'Immunization', 'Inventory', 'Waivers', 'Hearing', 'OralDental', 'Scoliosis', 'Tuberclosis', 'Vision', 'VitalSigns', 'StudentContacts', 'SchoolDetails', 'StudentProfile']\n"
     ]
    },
    {
     "name": "stderr",
     "output_type": "stream",
     "text": [
      "<ipython-input-77-2bccb57705a4>:3: SettingWithCopyWarning: \n",
      "A value is trying to be set on a copy of a slice from a DataFrame.\n",
      "Try using .loc[row_indexer,col_indexer] = value instead\n",
      "\n",
      "See the caveats in the documentation: https://pandas.pydata.org/pandas-docs/stable/user_guide/indexing.html#returning-a-view-versus-a-copy\n",
      "  df2Dummy['TargetTableName'] = df2Dummy['TargetTableName'].str.replace('/','')\n",
      "<ipython-input-77-2bccb57705a4>:4: SettingWithCopyWarning: \n",
      "A value is trying to be set on a copy of a slice from a DataFrame.\n",
      "Try using .loc[row_indexer,col_indexer] = value instead\n",
      "\n",
      "See the caveats in the documentation: https://pandas.pydata.org/pandas-docs/stable/user_guide/indexing.html#returning-a-view-versus-a-copy\n",
      "  df2Dummy['TargetColumnName'] = df2Dummy['TargetColumnName'].str.replace('(','')\n",
      "<ipython-input-77-2bccb57705a4>:5: SettingWithCopyWarning: \n",
      "A value is trying to be set on a copy of a slice from a DataFrame.\n",
      "Try using .loc[row_indexer,col_indexer] = value instead\n",
      "\n",
      "See the caveats in the documentation: https://pandas.pydata.org/pandas-docs/stable/user_guide/indexing.html#returning-a-view-versus-a-copy\n",
      "  df2Dummy['TargetColumnName'] = df2Dummy['TargetColumnName'].str.replace(')','')\n"
     ]
    }
   ],
   "source": [
    "df2=df2.dropna()\n",
    "df2Dummy=df2.drop_duplicates()\n",
    "df2Dummy['TargetTableName'] = df2Dummy['TargetTableName'].str.replace('/','')\n",
    "df2Dummy['TargetColumnName'] = df2Dummy['TargetColumnName'].str.replace('(','')\n",
    "df2Dummy['TargetColumnName'] = df2Dummy['TargetColumnName'].str.replace(')','')\n",
    "lt=df2Dummy.TargetTableName.unique().tolist()\n",
    "#print(lt)"
   ]
  },
  {
   "cell_type": "markdown",
   "metadata": {},
   "source": [
    "### Creating tables in the Database 2"
   ]
  },
  {
   "cell_type": "code",
   "execution_count": 78,
   "metadata": {},
   "outputs": [
    {
     "name": "stdout",
     "output_type": "stream",
     "text": [
      "CREATE TABLE OfficeVisit ( Actions_Health_Visit varchar(40) , Assessment_Comments varchar(40) , Health_Visit_ID varchar(40) , Screening_Outcome varchar(40) , ParentGuardian_Contact_Ind varchar(40) , Provider_Name varchar(40) , Provider_Type varchar(40) , StudentID varchar(40) , Time_In varchar(40) , Time_Out varchar(40) , Visit_Date varchar(40) , Visit_Reason varchar(40) , Visit_Type varchar(40) , Visit_Type_ID varchar(40) );\n",
      "CREATE TABLE Immunization ( Administered_Dose_Count varchar(40) , Compliance_Status varchar(40) , Exemption_Code varchar(40) , Exemption_Reason varchar(40) , Exemption_State_Code varchar(40) , Exemption_State_Reason varchar(40) , Exemption_Status varchar(40) , Immunization_Comment varchar(40) , StudentID varchar(40) , Vaccine_Code varchar(40) , Vaccine_Compliance_Mode varchar(40) , Vaccine_Description varchar(40) , Vaccine_Dose_Count varchar(40) , Vaccine_ID varchar(40) , Vaccine_MandatoryOptional varchar(40) , Vaccine_Name varchar(40) , Vaccine_Sort_Order varchar(40) , Vaccine_State_Code varchar(40) , Vaccine_State_Name varchar(40) , Certificate_Type_Code varchar(40) , Certificate_Type_Name varchar(40) , Certificate_Type_State_Code varchar(40) , Certificate_Type_State_Name varchar(40) , Compliancy_Statement varchar(40) , Compliancy_Status varchar(40) , Dose_Date_Administered varchar(40) , Dose_Date_Recorded varchar(40) , Dose_Number varchar(40) , Is_Default_Certificate_Type varchar(40) , Vaccination_DoseID varchar(40) , Imm_Source_ID varchar(40) , Student_Imm_Record_ID varchar(40) );\n",
      "CREATE TABLE Inventory ( Active_Med_Alert_Indicator varchar(40) , CustomMedication_Name varchar(40) , ID varchar(40) , Immunization_Status varchar(40) , Medical_Alert_Exp_Date varchar(40) , Medical_Alert_Text varchar(40) , StudentID varchar(40) );\n",
      "CREATE TABLE Waivers ( ID varchar(40) , StudentID varchar(40) , Waiver_Date varchar(40) , Student_Grade_Level varchar(40) , Waiver_Reason varchar(40) , Comments varchar(40) );\n",
      "CREATE TABLE Hearing ( Hearing_Test_Comments varchar(40) , Student_Grade_Level varchar(40) , hearing_aid varchar(40) , Student_Hearing_ID varchar(40) , Impaired_Test_Indicator varchar(40) , Late_Test_Indicator varchar(40) , Left_Ear_Result varchar(40) , Screening_Outcome varchar(40) , Provider_Name varchar(40) , Provider_Type varchar(40) , Referral_Date varchar(40) , Right_Ear_Result varchar(40) , Screening_Date varchar(40) , ScreeningTypeID varchar(40) , StudentID varchar(40) , Test_Type varchar(40) );\n",
      "CREATE TABLE OralDental ( Dental_Screening_Comments varchar(40) , Student_Grade_Level varchar(40) , Dental_History_Number varchar(40) , ID varchar(40) , Malocclusion varchar(40) , Screening_Outcome varchar(40) , Provider_Name varchar(40) , Provider_Type varchar(40) , Screening_Date varchar(40) , ScreeningTypeID varchar(40) , Sealants varchar(40) , StudentID varchar(40) , TreatmentUrgency varchar(40) , UntreatedCaries varchar(40) );\n",
      "CREATE TABLE Scoliosis ( Scoliosis_Test_Comment varchar(40) , Student_Grade_Level varchar(40) , Scoliosis_Test_ID varchar(40) , Screening_Outcome varchar(40) , Provider_Name varchar(40) , Provider_Type varchar(40) , Screening_Date varchar(40) , ScreeningTypeID varchar(40) , StudentID varchar(40) , Xray_Film_Date varchar(40) , Xray_Film_Impression varchar(40) );\n",
      "CREATE TABLE Tuberclosis ( Comment varchar(40) , Student_Grade_Level varchar(40) , ID varchar(40) , Induration_Size varchar(40) , Screening_Outcome varchar(40) , Provider_Name varchar(40) , Provider_Type varchar(40) , Screening_Date varchar(40) , ScreeningTypeID varchar(40) , Skin_Test_Given_Date varchar(40) , Skin_Test_Read_Date varchar(40) , Skin_Test_Result varchar(40) , Skin_Test_Type varchar(40) , StudentID varchar(40) , Xray_Film_Date varchar(40) , Xray_Film_Impression varchar(40) );\n",
      "CREATE TABLE Vision ( Color_Blind_Test_Result varchar(40) , Comment varchar(40) , Student_Grade_Level varchar(40) , ID varchar(40) , Late_Test_Indicator varchar(40) , Left_Eye_Result varchar(40) , Screening_Outcome varchar(40) , Provider_Name varchar(40) , Provider_Type varchar(40) , Referral_Date varchar(40) , Right_Eye_Result varchar(40) , Screening_Date varchar(40) , ScreeningTypeID varchar(40) , StudentID varchar(40) , Vision_Aid varchar(40) );\n",
      "CREATE TABLE VitalSigns ( Vision_Aid varchar(40) );\n",
      "CREATE TABLE StudentContacts ( Studen_Fathers_employer varchar(40) , Student_Fathers_home_Phone varchar(40) , Student_Fathers_daytimePhone varchar(40) );\n",
      "CREATE TABLE SchoolDetails ( Current_School_Abbreviation varchar(40) , School_ID varchar(40) , School_Is_SummerSchool varchar(40) , School_Number varchar(40) , School_Address varchar(40) , School_City varchar(40) , School_Country varchar(40) , SchoolFax varchar(40) , SchoolID varchar(40) , School_Name varchar(40) , School_Phone varchar(40) , School_State varchar(40) , School_Year varchar(40) , Schoo_lZip varchar(40) );\n",
      "CREATE TABLE StudentProfile ( Student_Number varchar(40) , Student_Grade_Level varchar(40) , Student_Current_School_Abbreviation varchar(40) , Student_Gender varchar(40) , Student_Ethnicity_Name varchar(40) , Student_Ethnicity_Code varchar(40) , Student_Special_Ed_Student_Indicator varchar(40) , Student_Middle_Name varchar(40) , Student_Last_Name varchar(40) , Student_First_Name varchar(40) , Student_Date_Of_Birth varchar(40) , Student_ClassOf varchar(40) , StudentID varchar(40) );\n"
     ]
    }
   ],
   "source": [
    "for tblName in lt:  \n",
    "    rslt_df = df2Dummy[df2Dummy[\"TargetTableName\"] == tblName] \n",
    "    lt_col=rslt_df[\"TargetColumnName\"].tolist()\n",
    "    #print(lt_col)\n",
    "    SqlQrt=\"CREATE TABLE \" +  tblName + \" (\"\n",
    "    colQuery=\"\"\n",
    "    Col_count=0\n",
    "    for colName in lt_col:\n",
    "        Col_count=Col_count+1\n",
    "        colQuery=colName + \" varchar(40) \"\n",
    "        if(len(lt_col)!=Col_count):\n",
    "            colQuery=colQuery+\",\" \n",
    "        SqlQrt=SqlQrt+\" \"+ colQuery \n",
    "    SqlQrt=SqlQrt + \");\"\n",
    "    cursor.execute(\"use Database2\")\n",
    "    cursor.execute(SqlQrt)\n",
    "\n",
    "   # print(SqlQrt)"
   ]
  },
  {
   "cell_type": "code",
   "execution_count": 101,
   "metadata": {},
   "outputs": [
    {
     "name": "stdout",
     "output_type": "stream",
     "text": [
      "INSERT INTO OfficeVisit (Actions_Health_Visit,Assessment_Comments,Health_Visit_ID,Screening_Outcome,ParentGuardian_Contact_Ind,Provider_Name,Provider_Type,StudentID,Time_In,Time_Out,Visit_Date,Visit_Reason,Visit_Type,Visit_Type_ID,) VALUES (Dummy Text,Dummy Text,Dummy Text,Dummy Text,Dummy Text,Dummy Text,Dummy Text,Dummy Text,Dummy Text,Dummy Text,Dummy Text,Dummy Text,Dummy Text,Dummy Text)\n",
      "INSERT INTO Immunization (Administered_Dose_Count,Compliance_Status,Exemption_Code,Exemption_Reason,Exemption_State_Code,Exemption_State_Reason,Exemption_Status,Immunization_Comment,StudentID,Vaccine_Code,Vaccine_Compliance_Mode,Vaccine_Description,Vaccine_Dose_Count,Vaccine_ID,Vaccine_MandatoryOptional,Vaccine_Name,Vaccine_Sort_Order,Vaccine_State_Code,Vaccine_State_Name,Certificate_Type_Code,Certificate_Type_Name,Certificate_Type_State_Code,Certificate_Type_State_Name,Compliancy_Statement,Compliancy_Status,Dose_Date_Administered,Dose_Date_Recorded,Dose_Number,Is_Default_Certificate_Type,Vaccination_DoseID,Imm_Source_ID,Student_Imm_Record_ID,) VALUES (Dummy Text,Dummy Text,Dummy Text,Dummy Text,Dummy Text,Dummy Text,Dummy Text,Dummy Text,Dummy Text,Dummy Text,Dummy Text,Dummy Text,Dummy Text,Dummy Text,Dummy Text,Dummy Text,Dummy Text,Dummy Text,Dummy Text,Dummy Text,Dummy Text,Dummy Text,Dummy Text,Dummy Text,Dummy Text,Dummy Text,Dummy Text,Dummy Text,Dummy Text,Dummy Text,Dummy Text,Dummy Text)\n",
      "INSERT INTO Inventory (Active_Med_Alert_Indicator,CustomMedication_Name,ID,Immunization_Status,Medical_Alert_Exp_Date,Medical_Alert_Text,StudentID,) VALUES (Dummy Text,Dummy Text,Dummy Text,Dummy Text,Dummy Text,Dummy Text,Dummy Text)\n",
      "INSERT INTO Waivers (ID,StudentID,Waiver_Date,Student_Grade_Level,Waiver_Reason,Comments,) VALUES (Dummy Text,Dummy Text,Dummy Text,Dummy Text,Dummy Text,Dummy Text)\n",
      "INSERT INTO Hearing (Hearing_Test_Comments,Student_Grade_Level,hearing_aid,Student_Hearing_ID,Impaired_Test_Indicator,Late_Test_Indicator,Left_Ear_Result,Screening_Outcome,Provider_Name,Provider_Type,Referral_Date,Right_Ear_Result,Screening_Date,ScreeningTypeID,StudentID,Test_Type,) VALUES (Dummy Text,Dummy Text,Dummy Text,Dummy Text,Dummy Text,Dummy Text,Dummy Text,Dummy Text,Dummy Text,Dummy Text,Dummy Text,Dummy Text,Dummy Text,Dummy Text,Dummy Text,Dummy Text)\n",
      "INSERT INTO OralDental (Dental_Screening_Comments,Student_Grade_Level,Dental_History_Number,ID,Malocclusion,Screening_Outcome,Provider_Name,Provider_Type,Screening_Date,ScreeningTypeID,Sealants,StudentID,TreatmentUrgency,UntreatedCaries,) VALUES (Dummy Text,Dummy Text,Dummy Text,Dummy Text,Dummy Text,Dummy Text,Dummy Text,Dummy Text,Dummy Text,Dummy Text,Dummy Text,Dummy Text,Dummy Text,Dummy Text)\n",
      "INSERT INTO Scoliosis (Scoliosis_Test_Comment,Student_Grade_Level,Scoliosis_Test_ID,Screening_Outcome,Provider_Name,Provider_Type,Screening_Date,ScreeningTypeID,StudentID,Xray_Film_Date,Xray_Film_Impression,) VALUES (Dummy Text,Dummy Text,Dummy Text,Dummy Text,Dummy Text,Dummy Text,Dummy Text,Dummy Text,Dummy Text,Dummy Text,Dummy Text)\n",
      "INSERT INTO Tuberclosis (Comment,Student_Grade_Level,ID,Induration_Size,Screening_Outcome,Provider_Name,Provider_Type,Screening_Date,ScreeningTypeID,Skin_Test_Given_Date,Skin_Test_Read_Date,Skin_Test_Result,Skin_Test_Type,StudentID,Xray_Film_Date,Xray_Film_Impression,) VALUES (Dummy Text,Dummy Text,Dummy Text,Dummy Text,Dummy Text,Dummy Text,Dummy Text,Dummy Text,Dummy Text,Dummy Text,Dummy Text,Dummy Text,Dummy Text,Dummy Text,Dummy Text,Dummy Text)\n",
      "INSERT INTO Vision (Color_Blind_Test_Result,Comment,Student_Grade_Level,ID,Late_Test_Indicator,Left_Eye_Result,Screening_Outcome,Provider_Name,Provider_Type,Referral_Date,Right_Eye_Result,Screening_Date,ScreeningTypeID,StudentID,Vision_Aid,) VALUES (Dummy Text,Dummy Text,Dummy Text,Dummy Text,Dummy Text,Dummy Text,Dummy Text,Dummy Text,Dummy Text,Dummy Text,Dummy Text,Dummy Text,Dummy Text,Dummy Text,Dummy Text)\n",
      "INSERT INTO VitalSigns (Vision_Aid,) VALUES (Dummy Text)\n",
      "INSERT INTO StudentContacts (Studen_Fathers_employer,Student_Fathers_home_Phone,Student_Fathers_daytimePhone,) VALUES (Dummy Text,Dummy Text,Dummy Text)\n",
      "INSERT INTO SchoolDetails (Current_School_Abbreviation,School_ID,School_Is_SummerSchool,School_Number,School_Address,School_City,School_Country,SchoolFax,SchoolID,School_Name,School_Phone,School_State,School_Year,Schoo_lZip,) VALUES (Dummy Text,Dummy Text,Dummy Text,Dummy Text,Dummy Text,Dummy Text,Dummy Text,Dummy Text,Dummy Text,Dummy Text,Dummy Text,Dummy Text,Dummy Text,Dummy Text)\n",
      "INSERT INTO StudentProfile (Student_Number,Student_Grade_Level,Student_Current_School_Abbreviation,Student_Gender,Student_Ethnicity_Name,Student_Ethnicity_Code,Student_Special_Ed_Student_Indicator,Student_Middle_Name,Student_Last_Name,Student_First_Name,Student_Date_Of_Birth,Student_ClassOf,StudentID,) VALUES (Dummy Text,Dummy Text,Dummy Text,Dummy Text,Dummy Text,Dummy Text,Dummy Text,Dummy Text,Dummy Text,Dummy Text,Dummy Text,Dummy Text,Dummy Text)\n"
     ]
    }
   ],
   "source": [
    "for tblName in lt:  \n",
    "    rslt_df = df2Dummy[df2Dummy[\"TargetTableName\"] == tblName] \n",
    "    lt1_col=rslt_df[\"TargetColumnName\"].tolist()\n",
    "  \n",
    "    SqlQrt=\"INSERT INTO \" + tblName + \" (\"\n",
    "    colQuery=\"\"\n",
    "    Col_cout=0\n",
    "    for colName in lt1_col:\n",
    "        Col_count=Col_cout+1\n",
    "        colQuery=colName\n",
    "        if(len(lt1_col)!=Col_cout):\n",
    "            colQuery=colQuery+\",\"\n",
    "        \n",
    "        SqlQrt=SqlQrt+colQuery \n",
    "    SqlQrt=SqlQrt + \")\"\n",
    "    \n",
    "    valueQuery=\" VALUES (\"\n",
    "    valueCount=0\n",
    "    for colName in lt1_col:\n",
    "        valueCount=valueCount+1\n",
    "        if(len(lt1_col)!=valueCount):\n",
    "            valueQuery= valueQuery +\"Dummy Text\"+\",\" \n",
    "        else:\n",
    "             valueQuery= valueQuery +\"Dummy Text\"\n",
    "        \n",
    "    valueQuery=valueQuery + \")\"\n",
    "    \n",
    "    SqlQrt=SqlQrt+ valueQuery\n",
    "#     cursor.execute(\"use Database2\")\n",
    "#     cursor.execute(SqlQrt)\n",
    "\n",
    "    print(SqlQrt)"
   ]
  },
  {
   "cell_type": "code",
   "execution_count": null,
   "metadata": {},
   "outputs": [],
   "source": []
  }
 ],
 "metadata": {
  "kernelspec": {
   "display_name": "Python 3",
   "language": "python",
   "name": "python3"
  },
  "language_info": {
   "codemirror_mode": {
    "name": "ipython",
    "version": 3
   },
   "file_extension": ".py",
   "mimetype": "text/x-python",
   "name": "python",
   "nbconvert_exporter": "python",
   "pygments_lexer": "ipython3",
   "version": "3.8.5"
  }
 },
 "nbformat": 4,
 "nbformat_minor": 4
}
